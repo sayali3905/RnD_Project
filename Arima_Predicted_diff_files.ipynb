{
  "nbformat": 4,
  "nbformat_minor": 0,
  "metadata": {
    "colab": {
      "name": "Arima_Final_Predicted.ipynb",
      "provenance": []
    },
    "kernelspec": {
      "name": "python3",
      "display_name": "Python 3"
    },
    "language_info": {
      "name": "python"
    }
  },
  "cells": [
    {
      "cell_type": "code",
      "source": [
        "import numpy as np\n",
        "import pandas as pd\n",
        "import matplotlib.pyplot as plt\n",
        "import matplotlib as mpl\n",
        "from statsmodels.tsa.stattools import adfuller\n",
        "import seaborn as sns\n",
        "from pmdarima.arima import auto_arima\n",
        "from sklearn.metrics import r2_score\n",
        "import math\n",
        "from sklearn.metrics import mean_squared_error\n",
        "\n",
        "%matplotlib inline \n",
        "mpl.rcParams['figure.figsize']=(10,8)\n",
        "mpl.rcParams['axes.grid']=False\n",
        "    "
      ],
      "metadata": {
        "id": "UfVPGCRU1FhO"
      },
      "execution_count": null,
      "outputs": []
    },
    {
      "cell_type": "code",
      "source": [
        "df=pd.read_csv('calls_data.csv')"
      ],
      "metadata": {
        "id": "4jHtqvTF1IcT"
      },
      "execution_count": null,
      "outputs": []
    },
    {
      "cell_type": "code",
      "source": [
        "array=[]\n",
        "mean_err=[]\n",
        "for i in range(1,301):\n",
        "      array=df.loc[df['user'] == i]\n",
        "      array=array.drop(['duration','user'],axis=1)\n",
        "      array.rename(columns = {'time_normalized':i}, inplace = True)\n",
        "      array=array.values.tolist()\n",
        "      df_id=pd.DataFrame(array)\n",
        "      print(\"-------------------------------------------user \"+str(i)+\"-------------------------------------------\")\n",
        "      test_res = adfuller(df_id)\n",
        "      def adfuller_test(sales):\n",
        "          result=adfuller(sales)\n",
        "          labels = ['ADF Test Statistic','p-value','#Lags Used','Number of Observations Used']\n",
        "          for value,label in zip(result,labels):\n",
        "              print(label+' : '+str(value) )\n",
        "          if result[1] <= 0.05:\n",
        "              print(\"strong evidence against the null hypothesis(Ho), reject the null hypothesis. Data has no unit root and is stationary\")\n",
        "          else:\n",
        "              print(\"weak evidence against null hypothesis, time series has a unit root, indicating it is non-stationary \")\n",
        "      k=len(df_id)\n",
        "      train = df_id[:int(0.8*k)]\n",
        "      test = df_id[int(0.8*k):]\n",
        "      arima_model =  auto_arima(train,start_p=0, d=1, start_q=0, \n",
        "                            max_p=10, max_d=10, max_q=10, start_P=0, \n",
        "                            D=1, start_Q=0, max_P=5, max_D=5,\n",
        "                            max_Q=5, m=2,seasonal=True, \n",
        "                            error_action='warn',trace = True,\n",
        "                            supress_warnings=True,stepwise = True,\n",
        "                            random_state=20,n_fits = 50)\n",
        "      prediction = pd.DataFrame(arima_model.predict(n_periods = len(test)),index=test.index)\n",
        "      #print(r2_score(test, prediction))\n",
        "      test.rename(columns = {0:'True_data'}, inplace = True)\n",
        "      prediction.rename(columns = {0:'Pred_data'}, inplace = True)\n",
        "      print(\"---------------------------------mean_squared_error----------------------------------\")\n",
        "      print(math.sqrt(mean_squared_error(test,prediction)))\n",
        "      mean_err.append(math.sqrt(mean_squared_error(test,prediction)))\n",
        "      r = pd.concat([prediction,test], axis=1)\n",
        "      r['True_data'].plot(figsize=(12,8))\n",
        "      r['Pred_data'].plot(figsize=(12,8))\n",
        "      plt.xlabel('next access')\n",
        "      plt.ylabel('Time normalized')\n",
        "      plt.show()\n",
        "      r.to_csv('user_'+str(i)+'.csv',\n",
        "                index = None)"
      ],
      "metadata": {
        "id": "G6RipbNT1Q-h"
      },
      "execution_count": null,
      "outputs": []
    }
  ]
}